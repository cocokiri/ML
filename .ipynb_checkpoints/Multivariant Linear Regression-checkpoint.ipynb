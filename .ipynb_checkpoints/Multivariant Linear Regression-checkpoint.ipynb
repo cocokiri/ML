{
 "cells": [
  {
   "cell_type": "code",
   "execution_count": 128,
   "metadata": {},
   "outputs": [
    {
     "data": {
      "image/png": "[encoded data removed]",
      "text/plain": [
       "<matplotlib.figure.Figure at 0x10ed8de48>"
      ]
     },
     "metadata": {},
     "output_type": "display_data"
    }
   ],
   "source": [
    "%matplotlib inline\n",
    "import numpy as np\n",
    "import matplotlib.pyplot as plt\n",
    "import pandas as pd\n",
    "\n",
    "path = \"ex1data2.txt\"\n",
    "data = pd.read_csv(path, header=None, names=['Size', 'Bedrooms', 'Price'])  \n",
    "#cols = np.loadtxt('ex1data2.txt', delimiter=\",\", usecols=(0,1,2), unpack=True); #Read in comma separated data\n",
    "\n",
    "\n",
    "cols = data.shape[1]\n",
    "X = data.iloc[:,0:cols-1]\n",
    "y = data.iloc[:,cols-1:cols]\n",
    "X.insert(0, \"Eins\", 1)\n",
    "theta = np.matrix(np.array([0, 0, 0]))\n",
    "\n",
    "\n",
    "X = np.matrix(X.values) #otherwise X[:,0] and stuff not working ...not hashable\n",
    "y = np.matrix(y.values)\n",
    "m = y.size\n",
    "\n",
    "#PLOT\n",
    "plt.grid()\n",
    "plt.xlim([-100,5000])\n",
    "plt.ylim([0,50])\n",
    "dummy = plt.hist(X[:,0],label = 'col1')\n",
    "dummy = plt.hist(X[:,1],label = 'col2')\n",
    "dummy = plt.hist(X[:,2],label = 'col3')\n",
    "plt.title('Clearly we need feature normalization.')\n",
    "plt.xlabel('Column Value')\n",
    "plt.ylabel('Counts')\n",
    "dummy = plt.legend()"
   ]
  },
  {
   "cell_type": "code",
   "execution_count": 129,
   "metadata": {},
   "outputs": [
    {
     "name": "stdout",
     "output_type": "stream",
     "text": [
      "       Size  Bedrooms     Price\n",
      "0  0.130010 -0.223675  0.475747\n",
      "1 -0.504190 -0.223675 -0.084074\n",
      "2  0.502476 -0.223675  0.228626\n",
      "3 -0.735723 -1.537767 -0.867025\n",
      "4  1.257476  1.090417  1.595389\n"
     ]
    },
    {
     "data": {
      "image/png": "[encoded data removed]",
      "text/plain": [
       "<matplotlib.figure.Figure at 0x10f84a400>"
      ]
     },
     "metadata": {},
     "output_type": "display_data"
    }
   ],
   "source": [
    "\n",
    "#normalize FEATURES\n",
    "dataN = (data - data.mean()) / data.std()\n",
    "print (dataN.head())\n",
    "\n",
    "\n",
    "#Again reassign\n",
    "X = dataN.iloc[:,0:colCount-1]\n",
    "y = dataN.iloc[:,colCount-1:colCount]\n",
    "X.insert(0, \"Eins\", 1)\n",
    "X = np.matrix(X.values)\n",
    "y = np.matrix(y.values)\n",
    "\n",
    "\n",
    "\n",
    "plt.grid()\n",
    "plt.xlim([-5,5])\n",
    "dummy = plt.hist(X[:,0],label = 'col1')\n",
    "dummy = plt.hist(X[:,1],label = 'col2')\n",
    "dummy = plt.hist(X[:,2],label = 'col3')\n",
    "plt.title('Clearly we need feature normalization.')\n",
    "plt.xlabel('Column Value')\n",
    "plt.ylabel('Counts')\n",
    "dummy = plt.legend()"
   ]
  },
  {
   "cell_type": "code",
   "execution_count": 93,
   "metadata": {},
   "outputs": [
    {
     "name": "stdout",
     "output_type": "stream",
     "text": [
      "[[ 0.]\n",
      " [ 0.]\n",
      " [ 0.]]\n",
      "[[0 0 0]]\n"
     ]
    }
   ],
   "source": [
    "initial_theta = np.zeros((X.shape[1],1))\n",
    "print(initial_theta)\n",
    "print(theta)"
   ]
  },
  {
   "cell_type": "code",
   "execution_count": 96,
   "metadata": {},
   "outputs": [
    {
     "name": "stdout",
     "output_type": "stream",
     "text": [
      "[[  1.00000000e+00   2.10400000e+03   3.00000000e+00]\n",
      " [  1.00000000e+00   1.60000000e+03   3.00000000e+00]\n",
      " [  1.00000000e+00   2.40000000e+03   3.00000000e+00]\n",
      " [  1.00000000e+00   1.41600000e+03   2.00000000e+00]\n",
      " [  1.00000000e+00   3.00000000e+03   4.00000000e+00]\n",
      " [  1.00000000e+00   1.98500000e+03   4.00000000e+00]\n",
      " [  1.00000000e+00   1.53400000e+03   3.00000000e+00]\n",
      " [  1.00000000e+00   1.42700000e+03   3.00000000e+00]\n",
      " [  1.00000000e+00   1.38000000e+03   3.00000000e+00]\n",
      " [  1.00000000e+00   1.49400000e+03   3.00000000e+00]\n",
      " [  1.00000000e+00   1.94000000e+03   4.00000000e+00]\n",
      " [  1.00000000e+00   2.00000000e+03   3.00000000e+00]\n",
      " [  1.00000000e+00   1.89000000e+03   3.00000000e+00]\n",
      " [  1.00000000e+00   4.47800000e+03   5.00000000e+00]\n",
      " [  1.00000000e+00   1.26800000e+03   3.00000000e+00]\n",
      " [  1.00000000e+00   2.30000000e+03   4.00000000e+00]\n",
      " [  1.00000000e+00   1.32000000e+03   2.00000000e+00]\n",
      " [  1.00000000e+00   1.23600000e+03   3.00000000e+00]\n",
      " [  1.00000000e+00   2.60900000e+03   4.00000000e+00]\n",
      " [  1.00000000e+00   3.03100000e+03   4.00000000e+00]\n",
      " [  1.00000000e+00   1.76700000e+03   3.00000000e+00]\n",
      " [  1.00000000e+00   1.88800000e+03   2.00000000e+00]\n",
      " [  1.00000000e+00   1.60400000e+03   3.00000000e+00]\n",
      " [  1.00000000e+00   1.96200000e+03   4.00000000e+00]\n",
      " [  1.00000000e+00   3.89000000e+03   3.00000000e+00]\n",
      " [  1.00000000e+00   1.10000000e+03   3.00000000e+00]\n",
      " [  1.00000000e+00   1.45800000e+03   3.00000000e+00]\n",
      " [  1.00000000e+00   2.52600000e+03   3.00000000e+00]\n",
      " [  1.00000000e+00   2.20000000e+03   3.00000000e+00]\n",
      " [  1.00000000e+00   2.63700000e+03   3.00000000e+00]\n",
      " [  1.00000000e+00   1.83900000e+03   2.00000000e+00]\n",
      " [  1.00000000e+00   1.00000000e+03   1.00000000e+00]\n",
      " [  1.00000000e+00   2.04000000e+03   4.00000000e+00]\n",
      " [  1.00000000e+00   3.13700000e+03   3.00000000e+00]\n",
      " [  1.00000000e+00   1.81100000e+03   4.00000000e+00]\n",
      " [  1.00000000e+00   1.43700000e+03   3.00000000e+00]\n",
      " [  1.00000000e+00   1.23900000e+03   3.00000000e+00]\n",
      " [  1.00000000e+00   2.13200000e+03   4.00000000e+00]\n",
      " [  1.00000000e+00   4.21500000e+03   4.00000000e+00]\n",
      " [  1.00000000e+00   2.16200000e+03   4.00000000e+00]\n",
      " [  1.00000000e+00   1.66400000e+03   2.00000000e+00]\n",
      " [  1.00000000e+00   2.23800000e+03   3.00000000e+00]\n",
      " [  1.00000000e+00   2.56700000e+03   4.00000000e+00]\n",
      " [  1.00000000e+00   1.20000000e+03   3.00000000e+00]\n",
      " [  1.00000000e+00   8.52000000e+02   2.00000000e+00]\n",
      " [  1.00000000e+00   1.85200000e+03   4.00000000e+00]\n",
      " [  1.00000000e+00   1.20300000e+03   3.00000000e+00]]\n"
     ]
    }
   ],
   "source": [
    "datafile = 'ex1data2.txt'\n",
    "#Read into the data file\n",
    "cols = np.loadtxt(datafile,delimiter=',',usecols=(0,1,2),unpack=True) #Read in comma separated data\n",
    "#Form the usual \"X\" matrix and \"y\" vector\n",
    "X = np.transpose(np.array(cols[:-1]))\n",
    "y = np.transpose(np.array(cols[-1:]))\n",
    "m = y.size # number of training examples\n",
    "#Insert the usual column of 1's into the \"X\" matrix\n",
    "X = np.insert(X,0,1,axis=1)\n",
    "print(X)"
   ]
  },
  {
   "cell_type": "code",
   "execution_count": null,
   "metadata": {
    "collapsed": true
   },
   "outputs": [],
   "source": []
  }
 ],
 "metadata": {
  "kernelspec": {
   "display_name": "Python 3",
   "language": "python",
   "name": "python3"
  },
  "language_info": {
   "codemirror_mode": {
    "name": "ipython",
    "version": 3
   },
   "file_extension": ".py",
   "mimetype": "text/x-python",
   "name": "python",
   "nbconvert_exporter": "python",
   "pygments_lexer": "ipython3",
   "version": "3.6.1"
  }
 },
 "nbformat": 4,
 "nbformat_minor": 2
}
